{
 "cells": [
  {
   "cell_type": "markdown",
   "metadata": {},
   "source": [
    "# To bdd format\n",
    "\n",
    "L'objet de ce notebook est de lire le fichier **qrt_consolide.xlsm** et de créer une seule base de données à partir des différents onglets."
   ]
  },
  {
   "cell_type": "markdown",
   "metadata": {},
   "source": [
    "## Initialisatoin"
   ]
  },
  {
   "cell_type": "code",
   "execution_count": 21,
   "metadata": {},
   "outputs": [
    {
     "name": "stdout",
     "output_type": "stream",
     "text": [
      "The autoreload extension is already loaded. To reload it, use:\n",
      "  %reload_ext autoreload\n"
     ]
    }
   ],
   "source": [
    "import os\n",
    "import warnings\n",
    "warnings.simplefilter(\"ignore\")\n",
    "\n",
    "import numpy as np\n",
    "import pandas as pd\n",
    "from ExcelReader import ExcelReader\n",
    "\n",
    "%load_ext autoreload\n",
    "%autoreload 2"
   ]
  },
  {
   "cell_type": "markdown",
   "metadata": {},
   "source": [
    "Onglets"
   ]
  },
  {
   "cell_type": "code",
   "execution_count": 22,
   "metadata": {},
   "outputs": [],
   "source": [
    "xl = ExcelReader(\"fichier_tests.xlsx\")"
   ]
  },
  {
   "cell_type": "code",
   "execution_count": 23,
   "metadata": {},
   "outputs": [
    {
     "data": {
      "text/plain": [
       "['Sheet1']"
      ]
     },
     "execution_count": 23,
     "metadata": {},
     "output_type": "execute_result"
    }
   ],
   "source": [
    "xl.get_sheet()"
   ]
  },
  {
   "cell_type": "code",
   "execution_count": 24,
   "metadata": {},
   "outputs": [],
   "source": [
    "xl.write_cell2('Sheet1', 2, 1, 19019)"
   ]
  },
  {
   "cell_type": "code",
   "execution_count": 46,
   "metadata": {},
   "outputs": [],
   "source": [
    "for i in range(1,100001):\n",
    "    xl.write_cell2('Sheet1', i, 1, np.random.normal())\n",
    "xl.save()\n",
    "    "
   ]
  },
  {
   "cell_type": "code",
   "execution_count": 44,
   "metadata": {},
   "outputs": [
    {
     "data": {
      "text/plain": [
       "-0.5193430168293995"
      ]
     },
     "execution_count": 44,
     "metadata": {},
     "output_type": "execute_result"
    }
   ],
   "source": [
    "np.random.normal()"
   ]
  },
  {
   "cell_type": "code",
   "execution_count": 25,
   "metadata": {},
   "outputs": [],
   "source": [
    "xl.save()"
   ]
  },
  {
   "cell_type": "code",
   "execution_count": 3,
   "metadata": {},
   "outputs": [
    {
     "data": {
      "text/plain": [
       "['Sheet1']"
      ]
     },
     "execution_count": 3,
     "metadata": {},
     "output_type": "execute_result"
    }
   ],
   "source": [
    "xl.get_sheet()"
   ]
  },
  {
   "cell_type": "code",
   "execution_count": 4,
   "metadata": {},
   "outputs": [
    {
     "data": {
      "text/html": [
       "<div>\n",
       "<style scoped>\n",
       "    .dataframe tbody tr th:only-of-type {\n",
       "        vertical-align: middle;\n",
       "    }\n",
       "\n",
       "    .dataframe tbody tr th {\n",
       "        vertical-align: top;\n",
       "    }\n",
       "\n",
       "    .dataframe thead th {\n",
       "        text-align: right;\n",
       "    }\n",
       "</style>\n",
       "<table border=\"1\" class=\"dataframe\">\n",
       "  <thead>\n",
       "    <tr style=\"text-align: right;\">\n",
       "      <th></th>\n",
       "      <th>var1</th>\n",
       "      <th>var2</th>\n",
       "      <th>var3</th>\n",
       "    </tr>\n",
       "  </thead>\n",
       "  <tbody>\n",
       "    <tr>\n",
       "      <th>0</th>\n",
       "      <td>1</td>\n",
       "      <td>Lyon</td>\n",
       "      <td>Ecolo</td>\n",
       "    </tr>\n",
       "    <tr>\n",
       "      <th>1</th>\n",
       "      <td>2</td>\n",
       "      <td>Paris</td>\n",
       "      <td>PS</td>\n",
       "    </tr>\n",
       "    <tr>\n",
       "      <th>2</th>\n",
       "      <td>3</td>\n",
       "      <td>Lille</td>\n",
       "      <td>PS</td>\n",
       "    </tr>\n",
       "  </tbody>\n",
       "</table>\n",
       "</div>"
      ],
      "text/plain": [
       "   var1   var2   var3\n",
       "0     1   Lyon  Ecolo\n",
       "1     2  Paris     PS\n",
       "2     3  Lille     PS"
      ]
     },
     "execution_count": 4,
     "metadata": {},
     "output_type": "execute_result"
    }
   ],
   "source": [
    "xl.get_table(sheet_name='Sheet1', table_name='tab_test')"
   ]
  },
  {
   "cell_type": "code",
   "execution_count": 5,
   "metadata": {},
   "outputs": [
    {
     "data": {
      "text/plain": [
       "99"
      ]
     },
     "execution_count": 5,
     "metadata": {},
     "output_type": "execute_result"
    }
   ],
   "source": [
    "xl.get_value('k')"
   ]
  },
  {
   "cell_type": "code",
   "execution_count": 12,
   "metadata": {},
   "outputs": [
    {
     "data": {
      "text/html": [
       "<div>\n",
       "<style scoped>\n",
       "    .dataframe tbody tr th:only-of-type {\n",
       "        vertical-align: middle;\n",
       "    }\n",
       "\n",
       "    .dataframe tbody tr th {\n",
       "        vertical-align: top;\n",
       "    }\n",
       "\n",
       "    .dataframe thead th {\n",
       "        text-align: right;\n",
       "    }\n",
       "</style>\n",
       "<table border=\"1\" class=\"dataframe\">\n",
       "  <thead>\n",
       "    <tr style=\"text-align: right;\">\n",
       "      <th></th>\n",
       "      <th>Unnamed: 3</th>\n",
       "    </tr>\n",
       "  </thead>\n",
       "  <tbody>\n",
       "    <tr>\n",
       "      <th>0</th>\n",
       "      <td>NaN</td>\n",
       "    </tr>\n",
       "    <tr>\n",
       "      <th>1</th>\n",
       "      <td>NaN</td>\n",
       "    </tr>\n",
       "    <tr>\n",
       "      <th>2</th>\n",
       "      <td>NaN</td>\n",
       "    </tr>\n",
       "    <tr>\n",
       "      <th>3</th>\n",
       "      <td>NaN</td>\n",
       "    </tr>\n",
       "    <tr>\n",
       "      <th>4</th>\n",
       "      <td>Bonjour</td>\n",
       "    </tr>\n",
       "    <tr>\n",
       "      <th>5</th>\n",
       "      <td>mathieu</td>\n",
       "    </tr>\n",
       "    <tr>\n",
       "      <th>6</th>\n",
       "      <td>NaN</td>\n",
       "    </tr>\n",
       "    <tr>\n",
       "      <th>7</th>\n",
       "      <td>NaN</td>\n",
       "    </tr>\n",
       "    <tr>\n",
       "      <th>8</th>\n",
       "      <td>NaN</td>\n",
       "    </tr>\n",
       "    <tr>\n",
       "      <th>9</th>\n",
       "      <td>var1</td>\n",
       "    </tr>\n",
       "    <tr>\n",
       "      <th>10</th>\n",
       "      <td>1</td>\n",
       "    </tr>\n",
       "    <tr>\n",
       "      <th>11</th>\n",
       "      <td>2</td>\n",
       "    </tr>\n",
       "    <tr>\n",
       "      <th>12</th>\n",
       "      <td>3</td>\n",
       "    </tr>\n",
       "  </tbody>\n",
       "</table>\n",
       "</div>"
      ],
      "text/plain": [
       "   Unnamed: 3\n",
       "0         NaN\n",
       "1         NaN\n",
       "2         NaN\n",
       "3         NaN\n",
       "4     Bonjour\n",
       "5     mathieu\n",
       "6         NaN\n",
       "7         NaN\n",
       "8         NaN\n",
       "9        var1\n",
       "10          1\n",
       "11          2\n",
       "12          3"
      ]
     },
     "execution_count": 12,
     "metadata": {},
     "output_type": "execute_result"
    }
   ],
   "source": [
    "xl.get_range(sheet_name='Sheet1', cols='D:D', skiprows='9', nrows=20 )"
   ]
  },
  {
   "cell_type": "code",
   "execution_count": 14,
   "metadata": {},
   "outputs": [],
   "source": [
    "xl.workbook['Sheet1']['A1'].value = 100\n",
    "xl.workbook.save('test.xlsx')"
   ]
  },
  {
   "cell_type": "code",
   "execution_count": 7,
   "metadata": {},
   "outputs": [
    {
     "ename": "TypeError",
     "evalue": "get_table() missing 2 required positional arguments: 'sheet_name' and 'table_name'",
     "output_type": "error",
     "traceback": [
      "\u001b[1;31m---------------------------------------------------------------------------\u001b[0m",
      "\u001b[1;31mTypeError\u001b[0m                                 Traceback (most recent call last)",
      "\u001b[1;32mc:\\Users\\mathi\\OneDrive\\PROFESSIONNEL\\____cours____\\__travaux__\\Projets\\python-utils\\Excel Reader\\main.ipynb Cell 10'\u001b[0m in \u001b[0;36m<module>\u001b[1;34m\u001b[0m\n\u001b[1;32m----> <a href='vscode-notebook-cell:/c%3A/Users/mathi/OneDrive/PROFESSIONNEL/____cours____/__travaux__/Projets/python-utils/Excel%20Reader/main.ipynb#ch0000018?line=0'>1</a>\u001b[0m xl\u001b[39m.\u001b[39;49mget_table()\n",
      "\u001b[1;31mTypeError\u001b[0m: get_table() missing 2 required positional arguments: 'sheet_name' and 'table_name'"
     ]
    }
   ],
   "source": [
    "pd.read_excel(skiprows=)"
   ]
  },
  {
   "cell_type": "code",
   "execution_count": null,
   "metadata": {},
   "outputs": [],
   "source": [
    "pd.read_excel("
   ]
  },
  {
   "cell_type": "code",
   "execution_count": null,
   "metadata": {},
   "outputs": [],
   "source": [
    "xl = ExcelReader()"
   ]
  },
  {
   "cell_type": "code",
   "execution_count": 3,
   "metadata": {},
   "outputs": [
    {
     "data": {
      "text/plain": [
       "['README',\n",
       " 'Tâches',\n",
       " 'Solo',\n",
       " 's_S.02.01.02',\n",
       " 's_S.23.01.01',\n",
       " 's_S.25.01.01',\n",
       " 's_S.25.02.01',\n",
       " 's_S.25.03.01',\n",
       " 'Groupe',\n",
       " 'g_S.02.01.02',\n",
       " 'g_S.23.01.04',\n",
       " 'g_S.25.01.04',\n",
       " 'g_S.25.02.04',\n",
       " 'g_S.25.03.04',\n",
       " '(H) Contrôles',\n",
       " '(H) Bdd',\n",
       " '(H) src']"
      ]
     },
     "execution_count": 3,
     "metadata": {},
     "output_type": "execute_result"
    }
   ],
   "source": [
    "xl_file.get_sheet()"
   ]
  },
  {
   "cell_type": "markdown",
   "metadata": {},
   "source": [
    "## Solo"
   ]
  },
  {
   "cell_type": "code",
   "execution_count": 4,
   "metadata": {},
   "outputs": [],
   "source": [
    "solo = xl_file.get_table(sheet_name = '(H) src', table_name = 'tab_solo').solo.to_numpy()"
   ]
  },
  {
   "cell_type": "markdown",
   "metadata": {},
   "source": [
    "### QRT S.02.01.02"
   ]
  },
  {
   "cell_type": "code",
   "execution_count": 10,
   "metadata": {},
   "outputs": [
    {
     "data": {
      "text/plain": [
       "array(['id', 'Cardif Assurance Vie', 'ACM IARD', 'ACM Vie',\n",
       "       'AFI ESCA Vie', 'Allianz IARD', 'Allianz Vie', 'Areas Dommages',\n",
       "       'Aviva Assurances', 'Aviva Epargne Retraite', 'Aviva Vie',\n",
       "       'AXA France IARD', 'AXA France Vie', 'CNP Assurances',\n",
       "       'Generali IARD', 'Generali Vie', 'Pacifica', 'Predica', 'SMA Vie',\n",
       "       'Sogécap', 'SwissLife Assurance et Patrimoine',\n",
       "       'SwissLife Assurances de Biens', 'SwissLife Prévoyance et Santé',\n",
       "       '-', '-', '-', '-', '-', '-', '-', '-', '-', '-', '-', '-', '-',\n",
       "       '-', '-', '-', '-', '-', '-', '-', '-', '-', '-', '-', '-', '-',\n",
       "       '-', '-', '-', '-', '-', '-', '-', '-', '-', '-', '-', '-', '-',\n",
       "       '-', '-', '-', '-', '-', '-', '-', '-', '-', '-', '-', '-', '-',\n",
       "       '-', '-', '-', '-', '-', '-', '-', '-', '-', '-', '-'],\n",
       "      dtype=object)"
      ]
     },
     "execution_count": 10,
     "metadata": {},
     "output_type": "execute_result"
    }
   ],
   "source": [
    "np.append('id', solo)"
   ]
  },
  {
   "cell_type": "code",
   "execution_count": 14,
   "metadata": {},
   "outputs": [
    {
     "data": {
      "text/plain": [
       "42"
      ]
     },
     "execution_count": 14,
     "metadata": {},
     "output_type": "execute_result"
    }
   ],
   "source": [
    "615-573"
   ]
  },
  {
   "cell_type": "code",
   "execution_count": 28,
   "metadata": {},
   "outputs": [
    {
     "data": {
      "text/html": [
       "<div>\n",
       "<style scoped>\n",
       "    .dataframe tbody tr th:only-of-type {\n",
       "        vertical-align: middle;\n",
       "    }\n",
       "\n",
       "    .dataframe tbody tr th {\n",
       "        vertical-align: top;\n",
       "    }\n",
       "\n",
       "    .dataframe thead th {\n",
       "        text-align: right;\n",
       "    }\n",
       "</style>\n",
       "<table border=\"1\" class=\"dataframe\">\n",
       "  <thead>\n",
       "    <tr style=\"text-align: right;\">\n",
       "      <th></th>\n",
       "      <th></th>\n",
       "      <th></th>\n",
       "      <th></th>\n",
       "      <th>Cardif Assurance Vie</th>\n",
       "      <th>ACM IARD</th>\n",
       "      <th>ACM Vie</th>\n",
       "      <th>AFI ESCA Vie</th>\n",
       "      <th>Allianz IARD</th>\n",
       "      <th>Allianz Vie</th>\n",
       "      <th>Areas Dommages</th>\n",
       "      <th>Aviva Assurances</th>\n",
       "      <th>Aviva Epargne Retraite</th>\n",
       "      <th>Aviva Vie</th>\n",
       "      <th>...</th>\n",
       "      <th>CNP Assurances</th>\n",
       "      <th>Generali IARD</th>\n",
       "      <th>Generali Vie</th>\n",
       "      <th>Pacifica</th>\n",
       "      <th>Predica</th>\n",
       "      <th>SMA Vie</th>\n",
       "      <th>Sogécap</th>\n",
       "      <th>SwissLife Assurance et Patrimoine</th>\n",
       "      <th>SwissLife Assurances de Biens</th>\n",
       "      <th>SwissLife Prévoyance et Santé</th>\n",
       "    </tr>\n",
       "    <tr>\n",
       "      <th>qrt_id</th>\n",
       "      <th>qrt_lib</th>\n",
       "      <th>id_ligne</th>\n",
       "      <th>lib_ligne</th>\n",
       "      <th></th>\n",
       "      <th></th>\n",
       "      <th></th>\n",
       "      <th></th>\n",
       "      <th></th>\n",
       "      <th></th>\n",
       "      <th></th>\n",
       "      <th></th>\n",
       "      <th></th>\n",
       "      <th></th>\n",
       "      <th></th>\n",
       "      <th></th>\n",
       "      <th></th>\n",
       "      <th></th>\n",
       "      <th></th>\n",
       "      <th></th>\n",
       "      <th></th>\n",
       "      <th></th>\n",
       "      <th></th>\n",
       "      <th></th>\n",
       "      <th></th>\n",
       "    </tr>\n",
       "  </thead>\n",
       "  <tbody>\n",
       "    <tr>\n",
       "      <th rowspan=\"5\" valign=\"top\">S.02.01.02</th>\n",
       "      <th rowspan=\"5\" valign=\"top\">Bilan actif</th>\n",
       "      <th>R0010</th>\n",
       "      <th>Goodwill</th>\n",
       "      <td>0.0</td>\n",
       "      <td>0.0</td>\n",
       "      <td>0.0</td>\n",
       "      <td>0.0</td>\n",
       "      <td>0.0</td>\n",
       "      <td>0.0</td>\n",
       "      <td>0.0</td>\n",
       "      <td>0.0</td>\n",
       "      <td>0.0</td>\n",
       "      <td>0.0</td>\n",
       "      <td>...</td>\n",
       "      <td>0.0</td>\n",
       "      <td>0.0</td>\n",
       "      <td>0.0</td>\n",
       "      <td>0.0</td>\n",
       "      <td>0.0</td>\n",
       "      <td>0.0</td>\n",
       "      <td>0.0</td>\n",
       "      <td>0.0</td>\n",
       "      <td>0.0</td>\n",
       "      <td>0.0</td>\n",
       "    </tr>\n",
       "    <tr>\n",
       "      <th>R0020</th>\n",
       "      <th>Frais d’acquisition différés</th>\n",
       "      <td>0.0</td>\n",
       "      <td>0.0</td>\n",
       "      <td>0.0</td>\n",
       "      <td>0.0</td>\n",
       "      <td>0.0</td>\n",
       "      <td>0.0</td>\n",
       "      <td>0.0</td>\n",
       "      <td>0.0</td>\n",
       "      <td>0.0</td>\n",
       "      <td>0.0</td>\n",
       "      <td>...</td>\n",
       "      <td>0.0</td>\n",
       "      <td>0.0</td>\n",
       "      <td>0.0</td>\n",
       "      <td>0.0</td>\n",
       "      <td>0.0</td>\n",
       "      <td>0.0</td>\n",
       "      <td>0.0</td>\n",
       "      <td>0.0</td>\n",
       "      <td>0.0</td>\n",
       "      <td>0.0</td>\n",
       "    </tr>\n",
       "    <tr>\n",
       "      <th>R0030</th>\n",
       "      <th>Immobilisations incorporelles</th>\n",
       "      <td>0.0</td>\n",
       "      <td>0.0</td>\n",
       "      <td>0.0</td>\n",
       "      <td>0.0</td>\n",
       "      <td>0.0</td>\n",
       "      <td>0.0</td>\n",
       "      <td>0.0</td>\n",
       "      <td>0.0</td>\n",
       "      <td>0.0</td>\n",
       "      <td>0.0</td>\n",
       "      <td>...</td>\n",
       "      <td>0.0</td>\n",
       "      <td>0.0</td>\n",
       "      <td>0.0</td>\n",
       "      <td>0.0</td>\n",
       "      <td>0.0</td>\n",
       "      <td>0.0</td>\n",
       "      <td>0.0</td>\n",
       "      <td>0.0</td>\n",
       "      <td>0.0</td>\n",
       "      <td>0.0</td>\n",
       "    </tr>\n",
       "    <tr>\n",
       "      <th>R0040</th>\n",
       "      <th>Actifs d’impôts différés</th>\n",
       "      <td>324714.0</td>\n",
       "      <td>0.0</td>\n",
       "      <td>0.0</td>\n",
       "      <td>0.0</td>\n",
       "      <td>0.0</td>\n",
       "      <td>0.0</td>\n",
       "      <td>0.0</td>\n",
       "      <td>0.0</td>\n",
       "      <td>0.0</td>\n",
       "      <td>0.0</td>\n",
       "      <td>...</td>\n",
       "      <td>0.0</td>\n",
       "      <td>0.0</td>\n",
       "      <td>0.0</td>\n",
       "      <td>0.0</td>\n",
       "      <td>0.0</td>\n",
       "      <td>0.0</td>\n",
       "      <td>0.0</td>\n",
       "      <td>0.0</td>\n",
       "      <td>0.0</td>\n",
       "      <td>0.0</td>\n",
       "    </tr>\n",
       "    <tr>\n",
       "      <th>R0050</th>\n",
       "      <th>Excédent du régime de retraite</th>\n",
       "      <td>0.0</td>\n",
       "      <td>0.0</td>\n",
       "      <td>0.0</td>\n",
       "      <td>0.0</td>\n",
       "      <td>0.0</td>\n",
       "      <td>0.0</td>\n",
       "      <td>0.0</td>\n",
       "      <td>0.0</td>\n",
       "      <td>0.0</td>\n",
       "      <td>0.0</td>\n",
       "      <td>...</td>\n",
       "      <td>0.0</td>\n",
       "      <td>0.0</td>\n",
       "      <td>0.0</td>\n",
       "      <td>0.0</td>\n",
       "      <td>0.0</td>\n",
       "      <td>0.0</td>\n",
       "      <td>0.0</td>\n",
       "      <td>0.0</td>\n",
       "      <td>0.0</td>\n",
       "      <td>0.0</td>\n",
       "    </tr>\n",
       "  </tbody>\n",
       "</table>\n",
       "<p>5 rows × 22 columns</p>\n",
       "</div>"
      ],
      "text/plain": [
       "                                                                Cardif Assurance Vie  \\\n",
       "qrt_id     qrt_lib     id_ligne lib_ligne                                              \n",
       "S.02.01.02 Bilan actif R0010    Goodwill                                         0.0   \n",
       "                       R0020    Frais d’acquisition différés                     0.0   \n",
       "                       R0030    Immobilisations incorporelles                    0.0   \n",
       "                       R0040    Actifs d’impôts différés                    324714.0   \n",
       "                       R0050    Excédent du régime de retraite                   0.0   \n",
       "\n",
       "                                                                ACM IARD  \\\n",
       "qrt_id     qrt_lib     id_ligne lib_ligne                                  \n",
       "S.02.01.02 Bilan actif R0010    Goodwill                             0.0   \n",
       "                       R0020    Frais d’acquisition différés         0.0   \n",
       "                       R0030    Immobilisations incorporelles        0.0   \n",
       "                       R0040    Actifs d’impôts différés             0.0   \n",
       "                       R0050    Excédent du régime de retraite       0.0   \n",
       "\n",
       "                                                                ACM Vie  \\\n",
       "qrt_id     qrt_lib     id_ligne lib_ligne                                 \n",
       "S.02.01.02 Bilan actif R0010    Goodwill                            0.0   \n",
       "                       R0020    Frais d’acquisition différés        0.0   \n",
       "                       R0030    Immobilisations incorporelles       0.0   \n",
       "                       R0040    Actifs d’impôts différés            0.0   \n",
       "                       R0050    Excédent du régime de retraite      0.0   \n",
       "\n",
       "                                                                AFI ESCA Vie  \\\n",
       "qrt_id     qrt_lib     id_ligne lib_ligne                                      \n",
       "S.02.01.02 Bilan actif R0010    Goodwill                                 0.0   \n",
       "                       R0020    Frais d’acquisition différés             0.0   \n",
       "                       R0030    Immobilisations incorporelles            0.0   \n",
       "                       R0040    Actifs d’impôts différés                 0.0   \n",
       "                       R0050    Excédent du régime de retraite           0.0   \n",
       "\n",
       "                                                                Allianz IARD  \\\n",
       "qrt_id     qrt_lib     id_ligne lib_ligne                                      \n",
       "S.02.01.02 Bilan actif R0010    Goodwill                                 0.0   \n",
       "                       R0020    Frais d’acquisition différés             0.0   \n",
       "                       R0030    Immobilisations incorporelles            0.0   \n",
       "                       R0040    Actifs d’impôts différés                 0.0   \n",
       "                       R0050    Excédent du régime de retraite           0.0   \n",
       "\n",
       "                                                                Allianz Vie  \\\n",
       "qrt_id     qrt_lib     id_ligne lib_ligne                                     \n",
       "S.02.01.02 Bilan actif R0010    Goodwill                                0.0   \n",
       "                       R0020    Frais d’acquisition différés            0.0   \n",
       "                       R0030    Immobilisations incorporelles           0.0   \n",
       "                       R0040    Actifs d’impôts différés                0.0   \n",
       "                       R0050    Excédent du régime de retraite          0.0   \n",
       "\n",
       "                                                                Areas Dommages  \\\n",
       "qrt_id     qrt_lib     id_ligne lib_ligne                                        \n",
       "S.02.01.02 Bilan actif R0010    Goodwill                                   0.0   \n",
       "                       R0020    Frais d’acquisition différés               0.0   \n",
       "                       R0030    Immobilisations incorporelles              0.0   \n",
       "                       R0040    Actifs d’impôts différés                   0.0   \n",
       "                       R0050    Excédent du régime de retraite             0.0   \n",
       "\n",
       "                                                                Aviva Assurances  \\\n",
       "qrt_id     qrt_lib     id_ligne lib_ligne                                          \n",
       "S.02.01.02 Bilan actif R0010    Goodwill                                     0.0   \n",
       "                       R0020    Frais d’acquisition différés                 0.0   \n",
       "                       R0030    Immobilisations incorporelles                0.0   \n",
       "                       R0040    Actifs d’impôts différés                     0.0   \n",
       "                       R0050    Excédent du régime de retraite               0.0   \n",
       "\n",
       "                                                                Aviva Epargne Retraite  \\\n",
       "qrt_id     qrt_lib     id_ligne lib_ligne                                                \n",
       "S.02.01.02 Bilan actif R0010    Goodwill                                           0.0   \n",
       "                       R0020    Frais d’acquisition différés                       0.0   \n",
       "                       R0030    Immobilisations incorporelles                      0.0   \n",
       "                       R0040    Actifs d’impôts différés                           0.0   \n",
       "                       R0050    Excédent du régime de retraite                     0.0   \n",
       "\n",
       "                                                                Aviva Vie  \\\n",
       "qrt_id     qrt_lib     id_ligne lib_ligne                                   \n",
       "S.02.01.02 Bilan actif R0010    Goodwill                              0.0   \n",
       "                       R0020    Frais d’acquisition différés          0.0   \n",
       "                       R0030    Immobilisations incorporelles         0.0   \n",
       "                       R0040    Actifs d’impôts différés              0.0   \n",
       "                       R0050    Excédent du régime de retraite        0.0   \n",
       "\n",
       "                                                                ...  \\\n",
       "qrt_id     qrt_lib     id_ligne lib_ligne                       ...   \n",
       "S.02.01.02 Bilan actif R0010    Goodwill                        ...   \n",
       "                       R0020    Frais d’acquisition différés    ...   \n",
       "                       R0030    Immobilisations incorporelles   ...   \n",
       "                       R0040    Actifs d’impôts différés        ...   \n",
       "                       R0050    Excédent du régime de retraite  ...   \n",
       "\n",
       "                                                                CNP Assurances  \\\n",
       "qrt_id     qrt_lib     id_ligne lib_ligne                                        \n",
       "S.02.01.02 Bilan actif R0010    Goodwill                                   0.0   \n",
       "                       R0020    Frais d’acquisition différés               0.0   \n",
       "                       R0030    Immobilisations incorporelles              0.0   \n",
       "                       R0040    Actifs d’impôts différés                   0.0   \n",
       "                       R0050    Excédent du régime de retraite             0.0   \n",
       "\n",
       "                                                                Generali IARD  \\\n",
       "qrt_id     qrt_lib     id_ligne lib_ligne                                       \n",
       "S.02.01.02 Bilan actif R0010    Goodwill                                  0.0   \n",
       "                       R0020    Frais d’acquisition différés              0.0   \n",
       "                       R0030    Immobilisations incorporelles             0.0   \n",
       "                       R0040    Actifs d’impôts différés                  0.0   \n",
       "                       R0050    Excédent du régime de retraite            0.0   \n",
       "\n",
       "                                                                Generali Vie  \\\n",
       "qrt_id     qrt_lib     id_ligne lib_ligne                                      \n",
       "S.02.01.02 Bilan actif R0010    Goodwill                                 0.0   \n",
       "                       R0020    Frais d’acquisition différés             0.0   \n",
       "                       R0030    Immobilisations incorporelles            0.0   \n",
       "                       R0040    Actifs d’impôts différés                 0.0   \n",
       "                       R0050    Excédent du régime de retraite           0.0   \n",
       "\n",
       "                                                                Pacifica  \\\n",
       "qrt_id     qrt_lib     id_ligne lib_ligne                                  \n",
       "S.02.01.02 Bilan actif R0010    Goodwill                             0.0   \n",
       "                       R0020    Frais d’acquisition différés         0.0   \n",
       "                       R0030    Immobilisations incorporelles        0.0   \n",
       "                       R0040    Actifs d’impôts différés             0.0   \n",
       "                       R0050    Excédent du régime de retraite       0.0   \n",
       "\n",
       "                                                                Predica  \\\n",
       "qrt_id     qrt_lib     id_ligne lib_ligne                                 \n",
       "S.02.01.02 Bilan actif R0010    Goodwill                            0.0   \n",
       "                       R0020    Frais d’acquisition différés        0.0   \n",
       "                       R0030    Immobilisations incorporelles       0.0   \n",
       "                       R0040    Actifs d’impôts différés            0.0   \n",
       "                       R0050    Excédent du régime de retraite      0.0   \n",
       "\n",
       "                                                                SMA Vie  \\\n",
       "qrt_id     qrt_lib     id_ligne lib_ligne                                 \n",
       "S.02.01.02 Bilan actif R0010    Goodwill                            0.0   \n",
       "                       R0020    Frais d’acquisition différés        0.0   \n",
       "                       R0030    Immobilisations incorporelles       0.0   \n",
       "                       R0040    Actifs d’impôts différés            0.0   \n",
       "                       R0050    Excédent du régime de retraite      0.0   \n",
       "\n",
       "                                                                Sogécap  \\\n",
       "qrt_id     qrt_lib     id_ligne lib_ligne                                 \n",
       "S.02.01.02 Bilan actif R0010    Goodwill                            0.0   \n",
       "                       R0020    Frais d’acquisition différés        0.0   \n",
       "                       R0030    Immobilisations incorporelles       0.0   \n",
       "                       R0040    Actifs d’impôts différés            0.0   \n",
       "                       R0050    Excédent du régime de retraite      0.0   \n",
       "\n",
       "                                                                SwissLife Assurance et Patrimoine  \\\n",
       "qrt_id     qrt_lib     id_ligne lib_ligne                                                           \n",
       "S.02.01.02 Bilan actif R0010    Goodwill                                                      0.0   \n",
       "                       R0020    Frais d’acquisition différés                                  0.0   \n",
       "                       R0030    Immobilisations incorporelles                                 0.0   \n",
       "                       R0040    Actifs d’impôts différés                                      0.0   \n",
       "                       R0050    Excédent du régime de retraite                                0.0   \n",
       "\n",
       "                                                                SwissLife Assurances de Biens  \\\n",
       "qrt_id     qrt_lib     id_ligne lib_ligne                                                       \n",
       "S.02.01.02 Bilan actif R0010    Goodwill                                                  0.0   \n",
       "                       R0020    Frais d’acquisition différés                              0.0   \n",
       "                       R0030    Immobilisations incorporelles                             0.0   \n",
       "                       R0040    Actifs d’impôts différés                                  0.0   \n",
       "                       R0050    Excédent du régime de retraite                            0.0   \n",
       "\n",
       "                                                                SwissLife Prévoyance et Santé  \n",
       "qrt_id     qrt_lib     id_ligne lib_ligne                                                      \n",
       "S.02.01.02 Bilan actif R0010    Goodwill                                                  0.0  \n",
       "                       R0020    Frais d’acquisition différés                              0.0  \n",
       "                       R0030    Immobilisations incorporelles                             0.0  \n",
       "                       R0040    Actifs d’impôts différés                                  0.0  \n",
       "                       R0050    Excédent du régime de retraite                            0.0  \n",
       "\n",
       "[5 rows x 22 columns]"
      ]
     },
     "execution_count": 28,
     "metadata": {},
     "output_type": "execute_result"
    }
   ],
   "source": [
    "nb_solo = sum(solo != '-')\n",
    "df = xl_file.get_range(sheet_name=\"s_S.02.01.02\", cols=np.append([2, 4], np.arange(5, 5+nb_solo)), skiprows=571, nrows=43, names = np.append(['lib_ligne', 'id_ligne'],solo[:nb_solo]))\n",
    "df[['qrt_id', 'qrt_lib']] = ['S.02.01.02', 'Bilan actif']\n",
    "df.set_index(['qrt_id', 'qrt_lib', 'id_ligne', 'lib_ligne'], inplace = True)\n",
    "df = df.fillna(0)\n",
    "df.head()"
   ]
  },
  {
   "cell_type": "code",
   "execution_count": 30,
   "metadata": {},
   "outputs": [
    {
     "data": {
      "text/html": [
       "<div>\n",
       "<style scoped>\n",
       "    .dataframe tbody tr th:only-of-type {\n",
       "        vertical-align: middle;\n",
       "    }\n",
       "\n",
       "    .dataframe tbody tr th {\n",
       "        vertical-align: top;\n",
       "    }\n",
       "\n",
       "    .dataframe thead th {\n",
       "        text-align: right;\n",
       "    }\n",
       "</style>\n",
       "<table border=\"1\" class=\"dataframe\">\n",
       "  <thead>\n",
       "    <tr style=\"text-align: right;\">\n",
       "      <th></th>\n",
       "      <th>qrt_id</th>\n",
       "      <th>qrt_lib</th>\n",
       "      <th>id_ligne</th>\n",
       "      <th>lib_ligne</th>\n",
       "      <th>level_4</th>\n",
       "      <th>0</th>\n",
       "    </tr>\n",
       "  </thead>\n",
       "  <tbody>\n",
       "    <tr>\n",
       "      <th>0</th>\n",
       "      <td>S.02.01.02</td>\n",
       "      <td>Bilan actif</td>\n",
       "      <td>R0010</td>\n",
       "      <td>Goodwill</td>\n",
       "      <td>Cardif Assurance Vie</td>\n",
       "      <td>0.0</td>\n",
       "    </tr>\n",
       "    <tr>\n",
       "      <th>1</th>\n",
       "      <td>S.02.01.02</td>\n",
       "      <td>Bilan actif</td>\n",
       "      <td>R0010</td>\n",
       "      <td>Goodwill</td>\n",
       "      <td>ACM IARD</td>\n",
       "      <td>0.0</td>\n",
       "    </tr>\n",
       "    <tr>\n",
       "      <th>2</th>\n",
       "      <td>S.02.01.02</td>\n",
       "      <td>Bilan actif</td>\n",
       "      <td>R0010</td>\n",
       "      <td>Goodwill</td>\n",
       "      <td>ACM Vie</td>\n",
       "      <td>0.0</td>\n",
       "    </tr>\n",
       "    <tr>\n",
       "      <th>3</th>\n",
       "      <td>S.02.01.02</td>\n",
       "      <td>Bilan actif</td>\n",
       "      <td>R0010</td>\n",
       "      <td>Goodwill</td>\n",
       "      <td>AFI ESCA Vie</td>\n",
       "      <td>0.0</td>\n",
       "    </tr>\n",
       "    <tr>\n",
       "      <th>4</th>\n",
       "      <td>S.02.01.02</td>\n",
       "      <td>Bilan actif</td>\n",
       "      <td>R0010</td>\n",
       "      <td>Goodwill</td>\n",
       "      <td>Allianz IARD</td>\n",
       "      <td>0.0</td>\n",
       "    </tr>\n",
       "  </tbody>\n",
       "</table>\n",
       "</div>"
      ],
      "text/plain": [
       "       qrt_id      qrt_lib id_ligne lib_ligne               level_4    0\n",
       "0  S.02.01.02  Bilan actif    R0010  Goodwill  Cardif Assurance Vie  0.0\n",
       "1  S.02.01.02  Bilan actif    R0010  Goodwill              ACM IARD  0.0\n",
       "2  S.02.01.02  Bilan actif    R0010  Goodwill               ACM Vie  0.0\n",
       "3  S.02.01.02  Bilan actif    R0010  Goodwill          AFI ESCA Vie  0.0\n",
       "4  S.02.01.02  Bilan actif    R0010  Goodwill          Allianz IARD  0.0"
      ]
     },
     "execution_count": 30,
     "metadata": {},
     "output_type": "execute_result"
    }
   ],
   "source": [
    "pd.Series(df.stack()).reset_index().head()"
   ]
  },
  {
   "cell_type": "code",
   "execution_count": null,
   "metadata": {},
   "outputs": [],
   "source": []
  }
 ],
 "metadata": {
  "interpreter": {
   "hash": "f4561823c00cb55cb84f25cf8c03d84f1f7eebaeb6250c71d88e39645325b61a"
  },
  "kernelspec": {
   "display_name": "Python 3.8.10 64-bit",
   "language": "python",
   "name": "python3"
  },
  "language_info": {
   "codemirror_mode": {
    "name": "ipython",
    "version": 3
   },
   "file_extension": ".py",
   "mimetype": "text/x-python",
   "name": "python",
   "nbconvert_exporter": "python",
   "pygments_lexer": "ipython3",
   "version": "3.8.10"
  },
  "orig_nbformat": 4
 },
 "nbformat": 4,
 "nbformat_minor": 2
}
